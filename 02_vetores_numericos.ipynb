{
 "cells": [
  {
   "cell_type": "markdown",
   "metadata": {},
   "source": [
    "# Introdução à Ciência de Dados com Python\n",
    "\n",
    "## Prof. Dr. Neylson Crepalde\n",
    "\n",
    "### Usando NumPy para trabalhar com vetores numéricos\n",
    "\n",
    "Pelo fato de Python ser uma linguagem de programação generalista, ele possui features limitadas para computação científica, cálculo e estatística. A principal biblioteca desenvolvida para esse fim é `NumPy`"
   ]
  },
  {
   "cell_type": "code",
   "execution_count": 1,
   "metadata": {},
   "outputs": [],
   "source": [
    "import numpy as np"
   ]
  },
  {
   "cell_type": "markdown",
   "metadata": {},
   "source": [
    "Com o comando acima, carregamos a biblioteca numpy em nosso ambiente python e usamos o *alias* `np` para ter acesso a seus métodos. Numpy nos proporciona a estrutura de arrays multidimensionais ou `ndarray`. Eles são vetores numéricos."
   ]
  },
  {
   "cell_type": "code",
   "execution_count": 12,
   "metadata": {},
   "outputs": [
    {
     "data": {
      "text/plain": [
       "numpy.ndarray"
      ]
     },
     "execution_count": 12,
     "metadata": {},
     "output_type": "execute_result"
    }
   ],
   "source": [
    "x = np.array([1,3,6,4,7,9,13,2])\n",
    "type(x)"
   ]
  },
  {
   "cell_type": "markdown",
   "metadata": {},
   "source": [
    "Os numpy arrays sabem fazer cálculos com seus elementos. Sabem, por exemplo, calcular sua média:"
   ]
  },
  {
   "cell_type": "code",
   "execution_count": 13,
   "metadata": {},
   "outputs": [
    {
     "data": {
      "text/plain": [
       "5.625"
      ]
     },
     "execution_count": 13,
     "metadata": {},
     "output_type": "execute_result"
    }
   ],
   "source": [
    "x.mean()  # x sabe calcular sua média"
   ]
  },
  {
   "cell_type": "code",
   "execution_count": 14,
   "metadata": {},
   "outputs": [
    {
     "data": {
      "text/plain": [
       "3.739568825412898"
      ]
     },
     "execution_count": 14,
     "metadata": {},
     "output_type": "execute_result"
    }
   ],
   "source": [
    "x.std()  # x sabe calcular seu desvio padrão"
   ]
  },
  {
   "cell_type": "markdown",
   "metadata": {},
   "source": [
    "Ou podemos usar as funções do próprio numpy e passar o array como parâmetro:"
   ]
  },
  {
   "cell_type": "code",
   "execution_count": 15,
   "metadata": {},
   "outputs": [
    {
     "data": {
      "text/plain": [
       "5.625"
      ]
     },
     "execution_count": 15,
     "metadata": {},
     "output_type": "execute_result"
    }
   ],
   "source": [
    "np.mean(x)  # calculando a média de x"
   ]
  },
  {
   "cell_type": "code",
   "execution_count": 16,
   "metadata": {},
   "outputs": [
    {
     "data": {
      "text/plain": [
       "5.0"
      ]
     },
     "execution_count": 16,
     "metadata": {},
     "output_type": "execute_result"
    }
   ],
   "source": [
    "np.median(x) # retorna a mediana de x"
   ]
  },
  {
   "cell_type": "code",
   "execution_count": 18,
   "metadata": {},
   "outputs": [
    {
     "name": "stdout",
     "output_type": "stream",
     "text": [
      "1\n",
      "13\n"
     ]
    }
   ],
   "source": [
    "# Exibe mínimo e máximo\n",
    "print(np.min(x))\n",
    "print(np.max(x))"
   ]
  },
  {
   "cell_type": "markdown",
   "metadata": {},
   "source": [
    "Por que usar numpy ao invés de listas? Além da facilidade maior para cálculos matemáticos, as funções de numpy são implementadas em C, o que as torna muito mais eficientes (rápidas) que as listas do Python. Vejam um benchmarking:"
   ]
  },
  {
   "cell_type": "code",
   "execution_count": 19,
   "metadata": {},
   "outputs": [
    {
     "name": "stdout",
     "output_type": "stream",
     "text": [
      "Wall time: 133 ms\n"
     ]
    }
   ],
   "source": [
    "%%time\n",
    "#Usando listas\n",
    "vetor = [i for i in range(1000000)] # cria um vetor de tamanho 1 milhão\n",
    "\n",
    "soma = [i+2 for i in vetor]  # soma o vetor a um escalar 2"
   ]
  },
  {
   "cell_type": "code",
   "execution_count": 20,
   "metadata": {},
   "outputs": [
    {
     "name": "stdout",
     "output_type": "stream",
     "text": [
      "Wall time: 16.5 ms\n"
     ]
    }
   ],
   "source": [
    "%%time\n",
    "# usando np.array\n",
    "vetor = np.arange(1000000)  # Cria um numpy array tamanho 1 milhão\n",
    "vetor += 2"
   ]
  },
  {
   "cell_type": "code",
   "execution_count": 21,
   "metadata": {},
   "outputs": [
    {
     "name": "stdout",
     "output_type": "stream",
     "text": [
      "Numpy foi 8.06060606060606 vezes mais rápido que a lista.\n"
     ]
    }
   ],
   "source": [
    "print(f\"Numpy foi {133/16.5} vezes mais rápido que a lista.\")"
   ]
  },
  {
   "cell_type": "markdown",
   "metadata": {},
   "source": [
    "É possível usar numpy para trabalhar com matrizes. Vamos fazer uma matriz de números aleatórios:"
   ]
  },
  {
   "cell_type": "code",
   "execution_count": 25,
   "metadata": {},
   "outputs": [
    {
     "data": {
      "text/plain": [
       "array([[-1.31756059, -0.80101492, -1.08347081,  0.9897789 ],\n",
       "       [-0.33154304,  0.56155248,  0.85604525,  0.58694955],\n",
       "       [-0.45923437,  0.96778498,  1.1420344 ,  0.60634799],\n",
       "       [ 0.67791463,  0.29167643, -0.45400227,  0.88277161],\n",
       "       [ 0.94496331,  1.6631996 , -1.36053546, -0.54352259],\n",
       "       [ 0.62639294,  0.32175786, -1.19835967, -0.12079808]])"
      ]
     },
     "execution_count": 25,
     "metadata": {},
     "output_type": "execute_result"
    }
   ],
   "source": [
    "A = np.random.randn(24).reshape(6,4)\n",
    "A"
   ]
  },
  {
   "cell_type": "markdown",
   "metadata": {},
   "source": [
    "Para tirar a média da primeira coluna, podemos fazer:"
   ]
  },
  {
   "cell_type": "code",
   "execution_count": 28,
   "metadata": {},
   "outputs": [
    {
     "name": "stdout",
     "output_type": "stream",
     "text": [
      "Esta é a primeira coluna: [-1.31756059 -0.33154304 -0.45923437  0.67791463  0.94496331  0.62639294]\n"
     ]
    },
    {
     "data": {
      "text/plain": [
       "0.02348881251951085"
      ]
     },
     "execution_count": 28,
     "metadata": {},
     "output_type": "execute_result"
    }
   ],
   "source": [
    "print(\"Esta é a primeira coluna:\", A[:,0])\n",
    "A[:,0].mean()"
   ]
  },
  {
   "cell_type": "markdown",
   "metadata": {},
   "source": [
    "Podemos também fazer algumas operações com matrizes. Vamos implementar, como exemplo a seguinte continha:\n",
    "\n",
    "$$\\beta = (X'X)^{-1} (X'y)$$"
   ]
  },
  {
   "cell_type": "code",
   "execution_count": 37,
   "metadata": {},
   "outputs": [
    {
     "data": {
      "text/plain": [
       "array([ 0.00135991,  0.10253414,  0.03625793,  0.03602154, -0.06832049])"
      ]
     },
     "execution_count": 37,
     "metadata": {},
     "output_type": "execute_result"
    }
   ],
   "source": [
    "X = np.random.randn(500).reshape(100,5)  # matriz X com 5 colunas\n",
    "y = np.random.randn(100)\n",
    "\n",
    "np.linalg.inv(X.T @ X) @ (X.T @ y)"
   ]
  }
 ],
 "metadata": {
  "kernelspec": {
   "display_name": "Python3",
   "language": "python",
   "name": "python3"
  },
  "language_info": {
   "codemirror_mode": {
    "name": "ipython",
    "version": 3
   },
   "file_extension": ".py",
   "mimetype": "text/x-python",
   "name": "python",
   "nbconvert_exporter": "python",
   "pygments_lexer": "ipython3",
   "version": "3.7.5"
  }
 },
 "nbformat": 4,
 "nbformat_minor": 4
}
