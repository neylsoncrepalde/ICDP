{
 "cells": [
  {
   "cell_type": "markdown",
   "metadata": {},
   "source": [
    "# Introdução à Ciência de Dados com Python\n",
    "\n",
    "## Prof. Dr. Neylson Crepalde\n",
    "\n",
    "### Pandas DataFrames\n",
    "\n",
    "Os DataFrames do Python são os Pandas!!! São estruturas excelentes de se trabalhar. Vamos pegar um caso de exemplo e fazer algumas análises descritivas."
   ]
  },
  {
   "cell_type": "code",
   "execution_count": 38,
   "metadata": {},
   "outputs": [],
   "source": [
    "import pandas as pd"
   ]
  },
  {
   "cell_type": "markdown",
   "metadata": {},
   "source": [
    "Vamos ler uma amostra de dados da PNAD 2012 direto da internet:"
   ]
  },
  {
   "cell_type": "code",
   "execution_count": 39,
   "metadata": {},
   "outputs": [
    {
     "data": {
      "text/html": [
       "<div>\n",
       "<style scoped>\n",
       "    .dataframe tbody tr th:only-of-type {\n",
       "        vertical-align: middle;\n",
       "    }\n",
       "\n",
       "    .dataframe tbody tr th {\n",
       "        vertical-align: top;\n",
       "    }\n",
       "\n",
       "    .dataframe thead th {\n",
       "        text-align: right;\n",
       "    }\n",
       "</style>\n",
       "<table border=\"1\" class=\"dataframe\">\n",
       "  <thead>\n",
       "    <tr style=\"text-align: right;\">\n",
       "      <th></th>\n",
       "      <th>V0101</th>\n",
       "      <th>UF</th>\n",
       "      <th>V0302</th>\n",
       "      <th>V8005</th>\n",
       "      <th>V0404</th>\n",
       "      <th>V4803</th>\n",
       "      <th>V4718</th>\n",
       "      <th>V4720</th>\n",
       "      <th>V4729</th>\n",
       "    </tr>\n",
       "  </thead>\n",
       "  <tbody>\n",
       "    <tr>\n",
       "      <th>0</th>\n",
       "      <td>2012</td>\n",
       "      <td>Rondônia</td>\n",
       "      <td>Masculino</td>\n",
       "      <td>48</td>\n",
       "      <td>Branca</td>\n",
       "      <td>15 anos ou mais</td>\n",
       "      <td>3000</td>\n",
       "      <td>3000</td>\n",
       "      <td>232</td>\n",
       "    </tr>\n",
       "    <tr>\n",
       "      <th>1</th>\n",
       "      <td>2012</td>\n",
       "      <td>Rondônia</td>\n",
       "      <td>Feminino</td>\n",
       "      <td>48</td>\n",
       "      <td>Branca</td>\n",
       "      <td>15 anos ou mais</td>\n",
       "      <td>3000</td>\n",
       "      <td>3000</td>\n",
       "      <td>232</td>\n",
       "    </tr>\n",
       "    <tr>\n",
       "      <th>2</th>\n",
       "      <td>2012</td>\n",
       "      <td>Rondônia</td>\n",
       "      <td>Feminino</td>\n",
       "      <td>23</td>\n",
       "      <td>Branca</td>\n",
       "      <td>15 anos ou mais</td>\n",
       "      <td>1100</td>\n",
       "      <td>1100</td>\n",
       "      <td>232</td>\n",
       "    </tr>\n",
       "    <tr>\n",
       "      <th>3</th>\n",
       "      <td>2012</td>\n",
       "      <td>Rondônia</td>\n",
       "      <td>Feminino</td>\n",
       "      <td>21</td>\n",
       "      <td>Branca</td>\n",
       "      <td>14 anos</td>\n",
       "      <td>1100</td>\n",
       "      <td>1100</td>\n",
       "      <td>232</td>\n",
       "    </tr>\n",
       "    <tr>\n",
       "      <th>4</th>\n",
       "      <td>2012</td>\n",
       "      <td>Rondônia</td>\n",
       "      <td>Feminino</td>\n",
       "      <td>54</td>\n",
       "      <td>Branca</td>\n",
       "      <td>15 anos ou mais</td>\n",
       "      <td>NaN</td>\n",
       "      <td>460</td>\n",
       "      <td>232</td>\n",
       "    </tr>\n",
       "    <tr>\n",
       "      <th>...</th>\n",
       "      <td>...</td>\n",
       "      <td>...</td>\n",
       "      <td>...</td>\n",
       "      <td>...</td>\n",
       "      <td>...</td>\n",
       "      <td>...</td>\n",
       "      <td>...</td>\n",
       "      <td>...</td>\n",
       "      <td>...</td>\n",
       "    </tr>\n",
       "    <tr>\n",
       "      <th>362446</th>\n",
       "      <td>2012</td>\n",
       "      <td>Distrito Federal</td>\n",
       "      <td>Feminino</td>\n",
       "      <td>51</td>\n",
       "      <td>Branca</td>\n",
       "      <td>15 anos ou mais</td>\n",
       "      <td>NaN</td>\n",
       "      <td>0</td>\n",
       "      <td>290</td>\n",
       "    </tr>\n",
       "    <tr>\n",
       "      <th>362447</th>\n",
       "      <td>2012</td>\n",
       "      <td>Distrito Federal</td>\n",
       "      <td>Masculino</td>\n",
       "      <td>53</td>\n",
       "      <td>Branca</td>\n",
       "      <td>12 anos</td>\n",
       "      <td>20000</td>\n",
       "      <td>20000</td>\n",
       "      <td>290</td>\n",
       "    </tr>\n",
       "    <tr>\n",
       "      <th>362448</th>\n",
       "      <td>2012</td>\n",
       "      <td>Distrito Federal</td>\n",
       "      <td>Masculino</td>\n",
       "      <td>21</td>\n",
       "      <td>Branca</td>\n",
       "      <td>13 anos</td>\n",
       "      <td>NaN</td>\n",
       "      <td>0</td>\n",
       "      <td>290</td>\n",
       "    </tr>\n",
       "    <tr>\n",
       "      <th>362449</th>\n",
       "      <td>2012</td>\n",
       "      <td>Distrito Federal</td>\n",
       "      <td>Masculino</td>\n",
       "      <td>19</td>\n",
       "      <td>Branca</td>\n",
       "      <td>13 anos</td>\n",
       "      <td>NaN</td>\n",
       "      <td>0</td>\n",
       "      <td>290</td>\n",
       "    </tr>\n",
       "    <tr>\n",
       "      <th>362450</th>\n",
       "      <td>2012</td>\n",
       "      <td>Distrito Federal</td>\n",
       "      <td>Masculino</td>\n",
       "      <td>40</td>\n",
       "      <td>Branca</td>\n",
       "      <td>15 anos ou mais</td>\n",
       "      <td>13000</td>\n",
       "      <td>13000</td>\n",
       "      <td>290</td>\n",
       "    </tr>\n",
       "  </tbody>\n",
       "</table>\n",
       "<p>362451 rows × 9 columns</p>\n",
       "</div>"
      ],
      "text/plain": [
       "        V0101                UF      V0302  V8005   V0404            V4803  \\\n",
       "0        2012          Rondônia  Masculino     48  Branca  15 anos ou mais   \n",
       "1        2012          Rondônia   Feminino     48  Branca  15 anos ou mais   \n",
       "2        2012          Rondônia   Feminino     23  Branca  15 anos ou mais   \n",
       "3        2012          Rondônia   Feminino     21  Branca          14 anos   \n",
       "4        2012          Rondônia   Feminino     54  Branca  15 anos ou mais   \n",
       "...       ...               ...        ...    ...     ...              ...   \n",
       "362446   2012  Distrito Federal   Feminino     51  Branca  15 anos ou mais   \n",
       "362447   2012  Distrito Federal  Masculino     53  Branca          12 anos   \n",
       "362448   2012  Distrito Federal  Masculino     21  Branca          13 anos   \n",
       "362449   2012  Distrito Federal  Masculino     19  Branca          13 anos   \n",
       "362450   2012  Distrito Federal  Masculino     40  Branca  15 anos ou mais   \n",
       "\n",
       "        V4718  V4720  V4729  \n",
       "0        3000   3000    232  \n",
       "1        3000   3000    232  \n",
       "2        1100   1100    232  \n",
       "3        1100   1100    232  \n",
       "4         NaN    460    232  \n",
       "...       ...    ...    ...  \n",
       "362446    NaN      0    290  \n",
       "362447  20000  20000    290  \n",
       "362448    NaN      0    290  \n",
       "362449    NaN      0    290  \n",
       "362450  13000  13000    290  \n",
       "\n",
       "[362451 rows x 9 columns]"
      ]
     },
     "execution_count": 39,
     "metadata": {},
     "output_type": "execute_result"
    }
   ],
   "source": [
    "pnad = pd.read_csv(\"https://github.com/neylsoncrepalde/introducao_ao_r/blob/master/dados/pes_2012.csv?raw=true\")\n",
    "pnad"
   ]
  },
  {
   "cell_type": "code",
   "execution_count": 40,
   "metadata": {},
   "outputs": [
    {
     "data": {
      "text/plain": [
       "(362451, 9)"
      ]
     },
     "execution_count": 40,
     "metadata": {},
     "output_type": "execute_result"
    }
   ],
   "source": [
    "# Para verificar o tamanho do dataset\n",
    "pnad.shape"
   ]
  },
  {
   "cell_type": "code",
   "execution_count": 41,
   "metadata": {},
   "outputs": [
    {
     "data": {
      "text/plain": [
       "Index(['V0101', 'UF', 'V0302', 'V8005', 'V0404', 'V4803', 'V4718', 'V4720',\n",
       "       'V4729'],\n",
       "      dtype='object')"
      ]
     },
     "execution_count": 41,
     "metadata": {},
     "output_type": "execute_result"
    }
   ],
   "source": [
    "# Para ver os nomes das colunas\n",
    "pnad.columns"
   ]
  },
  {
   "cell_type": "code",
   "execution_count": 42,
   "metadata": {},
   "outputs": [
    {
     "data": {
      "text/plain": [
       "0                 Rondônia\n",
       "1                 Rondônia\n",
       "2                 Rondônia\n",
       "3                 Rondônia\n",
       "4                 Rondônia\n",
       "                ...       \n",
       "362446    Distrito Federal\n",
       "362447    Distrito Federal\n",
       "362448    Distrito Federal\n",
       "362449    Distrito Federal\n",
       "362450    Distrito Federal\n",
       "Name: UF, Length: 362451, dtype: object"
      ]
     },
     "execution_count": 42,
     "metadata": {},
     "output_type": "execute_result"
    }
   ],
   "source": [
    "# Para visualizar apenas uma coluna\n",
    "pnad['UF']"
   ]
  },
  {
   "cell_type": "code",
   "execution_count": 43,
   "metadata": {},
   "outputs": [
    {
     "data": {
      "text/plain": [
       "0         Masculino\n",
       "1          Feminino\n",
       "2          Feminino\n",
       "3          Feminino\n",
       "4          Feminino\n",
       "            ...    \n",
       "362446     Feminino\n",
       "362447    Masculino\n",
       "362448    Masculino\n",
       "362449    Masculino\n",
       "362450    Masculino\n",
       "Name: V0302, Length: 362451, dtype: object"
      ]
     },
     "execution_count": 43,
     "metadata": {},
     "output_type": "execute_result"
    }
   ],
   "source": [
    "# OU\n",
    "pnad.V0302"
   ]
  },
  {
   "cell_type": "markdown",
   "metadata": {},
   "source": [
    "Vamos fazer algumas análises. Para as variáveis categóricas UF e V0302 (Cor/Raça) podemos fazer contagens de valores."
   ]
  },
  {
   "cell_type": "code",
   "execution_count": 45,
   "metadata": {},
   "outputs": [
    {
     "data": {
      "text/plain": [
       "Feminino     186054\n",
       "Masculino    176397\n",
       "Name: V0302, dtype: int64"
      ]
     },
     "execution_count": 45,
     "metadata": {},
     "output_type": "execute_result"
    }
   ],
   "source": [
    "pnad['V0302'].value_counts()"
   ]
  },
  {
   "cell_type": "markdown",
   "metadata": {},
   "source": [
    "Para montar uma tabelinha com valores proporcionais, basta dividir os valores pelo total."
   ]
  },
  {
   "cell_type": "code",
   "execution_count": 46,
   "metadata": {},
   "outputs": [
    {
     "data": {
      "text/plain": [
       "Feminino     0.513322\n",
       "Masculino    0.486678\n",
       "Name: V0302, dtype: float64"
      ]
     },
     "execution_count": 46,
     "metadata": {},
     "output_type": "execute_result"
    }
   ],
   "source": [
    "pnad.V0302.value_counts() / pnad.shape[0]  # quantidade de homens e mulheres sobre o total de linhas"
   ]
  },
  {
   "cell_type": "markdown",
   "metadata": {},
   "source": [
    "Para analisar a variável idade, vamos utilisar estatísticas descritivas."
   ]
  },
  {
   "cell_type": "code",
   "execution_count": 59,
   "metadata": {},
   "outputs": [
    {
     "data": {
      "text/plain": [
       "32.63801175883085"
      ]
     },
     "execution_count": 59,
     "metadata": {},
     "output_type": "execute_result"
    }
   ],
   "source": [
    "# média\n",
    "pnad.V8005.mean()"
   ]
  },
  {
   "cell_type": "code",
   "execution_count": 58,
   "metadata": {},
   "outputs": [
    {
     "data": {
      "text/plain": [
       "32.63801175883085"
      ]
     },
     "execution_count": 58,
     "metadata": {},
     "output_type": "execute_result"
    }
   ],
   "source": [
    "# OU\n",
    "np.mean(pnad.V8005)"
   ]
  },
  {
   "cell_type": "code",
   "execution_count": 60,
   "metadata": {},
   "outputs": [
    {
     "data": {
      "text/plain": [
       "30.0"
      ]
     },
     "execution_count": 60,
     "metadata": {},
     "output_type": "execute_result"
    }
   ],
   "source": [
    "# mediana\n",
    "pnad.V8005.median()"
   ]
  },
  {
   "cell_type": "code",
   "execution_count": 61,
   "metadata": {},
   "outputs": [
    {
     "data": {
      "text/plain": [
       "431.4064534606153"
      ]
     },
     "execution_count": 61,
     "metadata": {},
     "output_type": "execute_result"
    }
   ],
   "source": [
    "# Variância\n",
    "pnad.V8005.var()"
   ]
  },
  {
   "cell_type": "code",
   "execution_count": 64,
   "metadata": {},
   "outputs": [
    {
     "data": {
      "text/plain": [
       "20.77032627236788"
      ]
     },
     "execution_count": 64,
     "metadata": {},
     "output_type": "execute_result"
    }
   ],
   "source": [
    "# desvio padrão (que é a raiz quadrada da variância)\n",
    "pnad.V8005.std()"
   ]
  },
  {
   "cell_type": "code",
   "execution_count": 65,
   "metadata": {},
   "outputs": [
    {
     "data": {
      "text/plain": [
       "count    362451.000000\n",
       "mean         32.638012\n",
       "std          20.770326\n",
       "min           0.000000\n",
       "25%          15.000000\n",
       "50%          30.000000\n",
       "75%          48.000000\n",
       "max         117.000000\n",
       "Name: V8005, dtype: float64"
      ]
     },
     "execution_count": 65,
     "metadata": {},
     "output_type": "execute_result"
    }
   ],
   "source": [
    "# Para várias estatísticas descritivas de uma vez, podemos usar \n",
    "pnad.V8005.describe()"
   ]
  },
  {
   "cell_type": "code",
   "execution_count": null,
   "metadata": {},
   "outputs": [],
   "source": []
  }
 ],
 "metadata": {
  "kernelspec": {
   "display_name": "Python3",
   "language": "python",
   "name": "python3"
  },
  "language_info": {
   "codemirror_mode": {
    "name": "ipython",
    "version": 3
   },
   "file_extension": ".py",
   "mimetype": "text/x-python",
   "name": "python",
   "nbconvert_exporter": "python",
   "pygments_lexer": "ipython3",
   "version": "3.7.5"
  }
 },
 "nbformat": 4,
 "nbformat_minor": 4
}
